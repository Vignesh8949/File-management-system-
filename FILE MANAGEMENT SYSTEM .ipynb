{
 "cells": [
  {
   "cell_type": "code",
   "execution_count": null,
   "id": "b3630b95-9bea-4a59-9742-855138fc439d",
   "metadata": {},
   "outputs": [],
   "source": [
    "import os\n",
    "sample=input(\"enter 1 to write , 2 to read, 3 to append\")\n",
    "if sample=='1':\n",
    "    allfile=os.listdir()\n",
    "    while True:\n",
    "        print([x for x in allfile if x.endswith('.txt')])\n",
    "        fname = input(\"enter file name\")\n",
    "        if fname in allfile:\n",
    "            print('file already exits')\n",
    "        else:\n",
    "            data = input('enter data to write')\n",
    "            file = open(fname,'w')\n",
    "            file.write(data)\n",
    "            file.close()\n",
    "            break\n",
    "elif sample == '2':\n",
    "    allfile=os.listdir()\n",
    "    while True:\n",
    "        print([x for x in allfile if x.endswith('.txt')])\n",
    "        fname = input(\"enter file name\")\n",
    "        if fname in allfile:\n",
    "            file=open(fname,'r')\n",
    "            print(file.read())\n",
    "            break\n",
    "        else:\n",
    "            print('no file exist')\n",
    "            \n",
    "elif sample=='3':\n",
    "    allfile=os.listdir()\n",
    "    while True:\n",
    "        print([x for x in allfile if x.endswith(\".txt\")])\n",
    "        fname=input(\"enter filename\")\n",
    "        if fname in allfile:\n",
    "            data=input('enter data to write')\n",
    "            file=open(fname,'a')\n",
    "            file.write(data)\n",
    "            file.close()\n",
    "            break\n",
    "        else:\n",
    "               print('no file exist')"
   ]
  },
  {
   "cell_type": "code",
   "execution_count": null,
   "id": "09dfe8eb-d126-4275-bf24-12a325b0bf71",
   "metadata": {},
   "outputs": [],
   "source": []
  }
 ],
 "metadata": {
  "kernelspec": {
   "display_name": "Python 3 (ipykernel)",
   "language": "python",
   "name": "python3"
  },
  "language_info": {
   "codemirror_mode": {
    "name": "ipython",
    "version": 3
   },
   "file_extension": ".py",
   "mimetype": "text/x-python",
   "name": "python",
   "nbconvert_exporter": "python",
   "pygments_lexer": "ipython3",
   "version": "3.10.5"
  }
 },
 "nbformat": 4,
 "nbformat_minor": 5
}
